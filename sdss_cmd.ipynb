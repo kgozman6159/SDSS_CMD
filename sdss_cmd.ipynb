{
 "cells": [
  {
   "cell_type": "markdown",
   "metadata": {},
   "source": [
    "# SDSS Color-Magnitude Diagram\n",
    "## By Katya Gozman\n",
    "### May 15, 2021"
   ]
  },
  {
   "cell_type": "markdown",
   "metadata": {},
   "source": [
    "## README\n",
    "\n",
    "Welcome to my SDSS galaxy color-magntiude diagram (CMD) viewer!! This tool can be used to read a table of galaxies with known magnitudes to create an interactive CMD where users can click on each bin of the CMD to display galaxies that are representative of that color and magnitude range.\n",
    "\n",
    "**Requirements:**\n",
    "- python (I use python3)\n",
    "- jupyter notebooks\n",
    "- Common packages: numpy, pandas, PIL, requests\n",
    "- plotly, an interactive data visualization library\n",
    "    - Either pip install plotly==4.14.3 or conda install -c plotly plotly=4.14.3\n",
    "    - Visit https://plotly.com/python/getting-started/ for more information about plotly\n",
    "- A csv file that has objid,u,g,r,i,z,ra,dec columns for SDSS galaxies\n",
    "    - I am using a csv of the top 1000 Galaxy Zoo galaxies with more than 10 votes\n",
    "- An image of just a black white background to serve as a placeholder for bins with no galaxies in your working directory\n",
    "    - I use a file I found on google called \"white.jpg\"\n",
    "    \n",
    "This code has a cell that will create a folder in your working directory called gal_images1 and populate it with cutout images of all the galaxies in your csv file. The images are only ~ 1 kb in size, so they shouldn't take up too much space, but make sure you have room on your computer. This will take a few minutes, because there are 1000 images to get! Good news is that you only have to run this cell once, after that all the galaxies should just be stored on your computer and you can modify your plot/code to your heart's content.\n",
    "\n",
    "Once you've run all the cells, you should see a color-magnitude diagram pop up of all the galaxies in your input csv file. Click on any of the bins of the CMD histogram to see a selection of galaxies representative of that color and magnitude bin. The magnitude and color bin you are clicking on is displayed in a box around your mouse cursor when you hover over any bin as the x and y values, respectively. The z value will show you the number of galaxies in that bin. If a bin has more than 3 images, I simply take the first 3 images that plotly tells me are in that bin. If you click and no images appear, that means there are no galaxies in your dataset that correspond to that color and magnitude range.\n",
    "\n",
    "There are also two customization options above the plot. With the colormap buttons, you can chose from four different colormaps to display the CMD in based on your visual preferences. You can also reverse the colormap (i.e. if the original colormap is a gradient going from red to blue, reversing would make it go from blue to red) using the \"reverse colormap\" true/false buttons. This does not change anything about the data, only how it is visually displayed to you.\n",
    "\n",
    "\n",
    "There are also some plot options that are built-in with plotly that are displayed as little grey buttons above and to the right of the CMD (to the left of the first galaxy image that appears). You can hover over them to see what they do. You can zoom in or out, autoscale, pan, toggle spikelines, and more.\n",
    "\n",
    "If you'd like to run this code, I have provided my csv file called results.csv and placeholder image white.jpg in the folder with the notebook, so you should be able to run this without any modification to the code.\n",
    "\n",
    "Please note that this notebook is a very rough and unpolished, first version of this program. I made this as a proof-of-concept to see if I could make a tool like this that is akin to the Voyages old activity about galaxy CMDs that no longer works. I have some to-dos/questions that I thought about when making this in the very last cell of this notebook. For example, one of my biggest worries right now is needing to download all the images on a computer locally. This could probably be changed if this was a web activity vs. a notebook a user would run. In addition, I would love for a user to be able to import a dataset through a button/GUI menu instead of changing code, but this only seems to be an option if using plotly dash, a tool that lets you make interactive dashboards/web apps. \n",
    "\n",
    "Disclaimer: I am new to plotly (this is my first time using it!) or making interactive visualizations in general, so apologizes for any confusing or badly-written code. I relied heavily on plotly tutorials and examples to create this, which can be found at https://plotly.com/python/. \n",
    "\n",
    "Hope you enjoy this visualization!!\n"
   ]
  },
  {
   "cell_type": "code",
   "execution_count": 1,
   "metadata": {},
   "outputs": [
    {
     "data": {
      "text/html": [
       "<div>\n",
       "<style scoped>\n",
       "    .dataframe tbody tr th:only-of-type {\n",
       "        vertical-align: middle;\n",
       "    }\n",
       "\n",
       "    .dataframe tbody tr th {\n",
       "        vertical-align: top;\n",
       "    }\n",
       "\n",
       "    .dataframe thead th {\n",
       "        text-align: right;\n",
       "    }\n",
       "</style>\n",
       "<table border=\"1\" class=\"dataframe\">\n",
       "  <thead>\n",
       "    <tr style=\"text-align: right;\">\n",
       "      <th></th>\n",
       "      <th>objid</th>\n",
       "      <th>u</th>\n",
       "      <th>g</th>\n",
       "      <th>r</th>\n",
       "      <th>i</th>\n",
       "      <th>z</th>\n",
       "      <th>ra</th>\n",
       "      <th>dec</th>\n",
       "    </tr>\n",
       "  </thead>\n",
       "  <tbody>\n",
       "    <tr>\n",
       "      <th>0</th>\n",
       "      <td>1237657190906265729</td>\n",
       "      <td>19.644669</td>\n",
       "      <td>18.754942</td>\n",
       "      <td>18.435432</td>\n",
       "      <td>18.147774</td>\n",
       "      <td>18.133595</td>\n",
       "      <td>2.33899169</td>\n",
       "      <td>-0.14125159</td>\n",
       "    </tr>\n",
       "    <tr>\n",
       "      <th>1</th>\n",
       "      <td>1237663783661535442</td>\n",
       "      <td>19.704124</td>\n",
       "      <td>18.307823</td>\n",
       "      <td>17.795338</td>\n",
       "      <td>17.488132</td>\n",
       "      <td>17.289001</td>\n",
       "      <td>2.34967519</td>\n",
       "      <td>-0.40003004</td>\n",
       "    </tr>\n",
       "    <tr>\n",
       "      <th>2</th>\n",
       "      <td>1237652947452952698</td>\n",
       "      <td>19.327667</td>\n",
       "      <td>17.532240</td>\n",
       "      <td>16.642637</td>\n",
       "      <td>16.231489</td>\n",
       "      <td>15.915926</td>\n",
       "      <td>2.35221205</td>\n",
       "      <td>-10.09399097</td>\n",
       "    </tr>\n",
       "    <tr>\n",
       "      <th>3</th>\n",
       "      <td>1237657189832523967</td>\n",
       "      <td>20.325781</td>\n",
       "      <td>18.774132</td>\n",
       "      <td>17.830229</td>\n",
       "      <td>17.242840</td>\n",
       "      <td>16.846958</td>\n",
       "      <td>2.36426256</td>\n",
       "      <td>-0.91197187</td>\n",
       "    </tr>\n",
       "    <tr>\n",
       "      <th>4</th>\n",
       "      <td>1237652946916082051</td>\n",
       "      <td>21.592339</td>\n",
       "      <td>21.095518</td>\n",
       "      <td>19.282438</td>\n",
       "      <td>18.635124</td>\n",
       "      <td>18.151045</td>\n",
       "      <td>2.38843263</td>\n",
       "      <td>-10.47639727</td>\n",
       "    </tr>\n",
       "  </tbody>\n",
       "</table>\n",
       "</div>"
      ],
      "text/plain": [
       "                 objid          u          g          r          i          z  \\\n",
       "0  1237657190906265729  19.644669  18.754942  18.435432  18.147774  18.133595   \n",
       "1  1237663783661535442  19.704124  18.307823  17.795338  17.488132  17.289001   \n",
       "2  1237652947452952698  19.327667  17.532240  16.642637  16.231489  15.915926   \n",
       "3  1237657189832523967  20.325781  18.774132  17.830229  17.242840  16.846958   \n",
       "4  1237652946916082051  21.592339  21.095518  19.282438  18.635124  18.151045   \n",
       "\n",
       "           ra           dec  \n",
       "0  2.33899169   -0.14125159  \n",
       "1  2.34967519   -0.40003004  \n",
       "2  2.35221205  -10.09399097  \n",
       "3  2.36426256   -0.91197187  \n",
       "4  2.38843263  -10.47639727  "
      ]
     },
     "execution_count": 1,
     "metadata": {},
     "output_type": "execute_result"
    }
   ],
   "source": [
    "###imports###\n",
    "import pandas as pd\n",
    "import numpy as np\n",
    "from PIL import Image\n",
    "import requests\n",
    "from io import BytesIO\n",
    "import io\n",
    "import os\n",
    "import plotly\n",
    "\n",
    "###read in the csv of galxies with objid, u,g,r,i,z,ra,dec columns###\n",
    "###CHANGE FILENAME of your csv accordingly in the below line###\n",
    "galaxies_df = pd.read_csv('result.csv', names=['objid','u','g','r','i','z','ra','dec'], dtype={'objid':str,'u':float,'g':float,'r':float,'i':float,'z':float,'ra':str,'dec':str}, skiprows=[0])\n",
    "galaxies_df.sample(5)\n",
    "ra = galaxies_df['ra']\n",
    "dec = galaxies_df['dec']\n",
    "gmag = (galaxies_df['g'])\n",
    "rmag = (galaxies_df['r'])\n",
    "imag = (galaxies_df['i'])\n",
    "color = gmag-imag\n",
    "galaxies_df.head()"
   ]
  },
  {
   "cell_type": "code",
   "execution_count": 400,
   "metadata": {
    "scrolled": true
   },
   "outputs": [],
   "source": [
    "###\n",
    "'''\n",
    "Cell to extract all images corresponding to the input csv objects and store them locally.\n",
    "This will download a jpeg of each galaxy and store it to a folder called \"gal_images1\" in your\n",
    "notebook's directory. Each image should be around 1 kb.\n",
    "*****RUN ONLY ONCE TO EXTRACT IMAGES!!*******\n",
    "'''\n",
    "###\n",
    "\n",
    "def extractOnlineImage(RA, dec, galID):\n",
    "    imgurl = \"http://skyserver.sdss.org/dr15/SkyServerWS/ImgCutout/getjpeg?TaskName=Skyserver.Chart.Image&ra={}&dec={}&scale=1&width=64&height=64\".format(RA, dec)\n",
    "    #filedata = urllib.request.urlopen(imgurl)\n",
    "    #img = io.BytesIO(filedata.read())\n",
    "    r = requests.get(imgurl)\n",
    "    #print(r)\n",
    "    img = Image.open(BytesIO(r.content))\n",
    "    try: \n",
    "        os.makedirs('gal_images1')\n",
    "    except OSError:\n",
    "        pass\n",
    "    img.save('gal_images1/%s.jpeg'%galID)\n",
    "    \n",
    "\n",
    "\n",
    "for i,row in galaxies_df.iterrows():\n",
    " \n",
    "    extractOnlineImage(row['ra'], row['dec'], row['objid'])\n"
   ]
  },
  {
   "cell_type": "code",
   "execution_count": 2,
   "metadata": {},
   "outputs": [],
   "source": [
    "###creates dictionaries of key=galaxy objid and value=image array to access image information###\n",
    "image_data = {}\n",
    "for img_filename in os.listdir('gal_images1'):\n",
    "    galID = img_filename.split('.')[0]\n",
    "    with open(f\"gal_images1/{img_filename}\", \"rb\") as f:\n",
    "        b = f.read()\n",
    "        image_data[galID] = b\n",
    "        \n",
    "###Need a blank/white image to act as placeholder for when you mouse over area without any galaxies###\n",
    "###I downloaded a random jpg that was a white background called \"white.jpg\" and used that###\n",
    "###CHANGE FILENAME AS NEEDED###\n",
    "empty = {}        \n",
    "with open(f\"white.jpg\", \"rb\") as f:\n",
    "        b = f.read()\n",
    "        empty['white'] = b"
   ]
  },
  {
   "cell_type": "code",
   "execution_count": 3,
   "metadata": {
    "scrolled": false
   },
   "outputs": [
    {
     "data": {
      "application/vnd.jupyter.widget-view+json": {
       "model_id": "2f603390da4a42068f5fc9a9cfd21411",
       "version_major": 2,
       "version_minor": 0
      },
      "text/plain": [
       "Image(value=b'\\xff\\xd8\\xff\\xe0\\x00\\x10JFIF\\x00\\x01\\x01\\x00\\x00\\x01\\x00\\x01\\x00\\x00\\xff\\xdb\\x00C\\x00\\x08\\x06\\x0…"
      ]
     },
     "metadata": {},
     "output_type": "display_data"
    }
   ],
   "source": [
    "###Displays an image from the dataset--sanity check###\n",
    "from ipywidgets import Image\n",
    "Image(value=image_data['1237649918963548406'])"
   ]
  },
  {
   "cell_type": "code",
   "execution_count": 4,
   "metadata": {},
   "outputs": [],
   "source": [
    "###imports necessary plotly plotting library###\n",
    "import plotly.graph_objs as go"
   ]
  },
  {
   "cell_type": "code",
   "execution_count": 5,
   "metadata": {},
   "outputs": [],
   "source": [
    "###Creates initial figure (2d historgram of i vs g-i)###\n",
    "fig = go.FigureWidget(\n",
    "    data=[\n",
    "        dict(\n",
    "            type='histogram2d',\n",
    "            x=imag,\n",
    "            y=gmag-imag,\n",
    "            #mode='markers',\n",
    "            nbinsx=100,\n",
    "            nbinsy=100,\n",
    "            colorscale='viridis',\n",
    "        \n",
    "        )\n",
    "    ],\n",
    "    layout=go.Layout(height=600, width=600)\n",
    ")\n",
    "fig.layout.xaxis.title = 'i-band magnitude'\n",
    "fig.layout.yaxis.title = 'g-i color'\n",
    "#fig.layout.title = 'SDSS Galaxy CMD'\n",
    "#fig.layout"
   ]
  },
  {
   "cell_type": "code",
   "execution_count": 6,
   "metadata": {},
   "outputs": [
    {
     "data": {
      "application/vnd.jupyter.widget-view+json": {
       "model_id": "62c4d2d9ce45464ba14c25a2083a1115",
       "version_major": 2,
       "version_minor": 0
      },
      "text/plain": [
       "FigureWidget({\n",
       "    'data': [{'colorscale': [[0.0, '#440154'], [0.1111111111111111, '#482878'],\n",
       "               …"
      ]
     },
     "metadata": {},
     "output_type": "display_data"
    }
   ],
   "source": [
    "fig"
   ]
  },
  {
   "cell_type": "code",
   "execution_count": 7,
   "metadata": {},
   "outputs": [],
   "source": [
    "###Extract data from the figure###\n",
    "scatter = fig.data[0]"
   ]
  },
  {
   "cell_type": "code",
   "execution_count": 8,
   "metadata": {},
   "outputs": [],
   "source": [
    "###Update hovermode so that the program recognizes closest click or hover on a histogram cell###\n",
    "fig.layout.hovermode = 'closest'\n",
    "#fig.layout.clickmode = 'event'\n",
    "#fig.update_layout(clickmode='event+select')"
   ]
  },
  {
   "cell_type": "code",
   "execution_count": 9,
   "metadata": {},
   "outputs": [],
   "source": [
    "#scatter.text = galaxies_df['objid']\n",
    "#scatter.hoverinfo = 'text'\n"
   ]
  },
  {
   "cell_type": "code",
   "execution_count": 10,
   "metadata": {},
   "outputs": [],
   "source": [
    "###Creates widgets for the white placeholder images for areas without galaxy data###\n",
    "from ipywidgets import Image, Layout\n",
    "image_widget1 = Image(\n",
    "    #value=image_data['1237648720693887211'],\n",
    "    value = empty['white'],\n",
    "    layout=Layout(height='200px', width='200px')\n",
    ")\n",
    "image_widget2 = Image(\n",
    "    #value=image_data['1237648720693887211'],\n",
    "    value = empty['white'],\n",
    "    layout=Layout(height='200px', width='200px')\n",
    ")\n",
    "image_widget3 = Image(\n",
    "    #value=image_data['1237648720693887211'],\n",
    "    value = empty['white'],\n",
    "    layout=Layout(height='200px', width='200px')\n",
    ")"
   ]
  },
  {
   "cell_type": "code",
   "execution_count": 11,
   "metadata": {},
   "outputs": [],
   "source": [
    "###Function that shows images on hover or click###\n",
    "###Displays up to 3 representative galaxies in each histogram bin###\n",
    "def hover_fn(trace, points, state):\n",
    "    ###gets list of galaxy indices that are in the bin you click on###\n",
    "    inds = points.point_inds\n",
    "    if len(inds) == 0:\n",
    "        image_widget1.value = empty['white']\n",
    "        image_widget2.value = empty['white']\n",
    "        image_widget3.value = empty['white']\n",
    "    else:\n",
    "        # Update image widget\n",
    "        galID1 = galaxies_df['objid'][inds[0]]\n",
    "        image_widget1.value = image_data[galID1]\n",
    "\n",
    "        if len(inds) < 2 :\n",
    "            image_widget2.value = empty['white']\n",
    "        else:\n",
    "            galID2 = galaxies_df['objid'][inds[1]]\n",
    "            image_widget2.value = image_data[galID2]\n",
    "\n",
    "        if len(inds) < 3:\n",
    "            image_widget3.value = empty['white']\n",
    "        else:\n",
    "            galID3 = galaxies_df['objid'][inds[2]]\n",
    "            image_widget3.value = image_data[galID3]\n",
    "\n",
    "            \n",
    "### You can change whether you want images to be displayed on mouse hover or mouse click ###\n",
    "### Right now it's set to on click ###\n",
    "#scatter.on_hover(hover_fn)\n",
    "scatter.on_click(hover_fn)"
   ]
  },
  {
   "cell_type": "code",
   "execution_count": 12,
   "metadata": {
    "scrolled": false
   },
   "outputs": [
    {
     "data": {
      "application/vnd.jupyter.widget-view+json": {
       "model_id": "2d3cd3468551407f91a8cdd75da5b02f",
       "version_major": 2,
       "version_minor": 0
      },
      "text/plain": [
       "HBox(children=(FigureWidget({\n",
       "    'data': [{'colorscale': [[0.0, '#440154'], [0.1111111111111111, '#482878'],\n",
       "…"
      ]
     },
     "metadata": {},
     "output_type": "display_data"
    }
   ],
   "source": [
    "# Update plot sizing\n",
    "fig.update_layout(\n",
    "    width=600,\n",
    "    height=600,\n",
    "    autosize=False,\n",
    "    margin=dict(t=150, b=0, l=0, r=0),\n",
    ")\n",
    "\n",
    "\"\"\"fig.update_scenes(\n",
    "    aspectratio=dict(x=1, y=1, z=0.7),\n",
    "    aspectmode=\"manual\"\n",
    ")\"\"\"\n",
    "button_layer_1_height = 1.3\n",
    "button_layer_2_height = 1.19\n",
    "from ipywidgets import HBox, VBox\n",
    "fig.update_xaxes(autorange=\"reversed\") #reverse the x-axis as is traditional\n",
    "fig.update_layout(clickmode='event')\n",
    "###Creates user button options for colorscale###\n",
    "fig.update_layout(\n",
    "    updatemenus=[\n",
    "        dict(\n",
    "            buttons=list([\n",
    "                dict(\n",
    "                    args=[\"colorscale\", \"Viridis\"],\n",
    "                    label=\"Viridis\",\n",
    "                    method=\"restyle\"\n",
    "                ),\n",
    "                dict(\n",
    "                    args=[\"colorscale\", \"Cividis\"],\n",
    "                    label=\"Cividis\",\n",
    "                    method=\"restyle\"\n",
    "                ),\n",
    "                dict(\n",
    "                    args=[\"colorscale\", \"Blackbody\"],\n",
    "                    label=\"Blackbody\",\n",
    "                    method=\"restyle\"\n",
    "                ),\n",
    "                dict(\n",
    "                    args=[\"colorscale\", \"Rdylbu\"],\n",
    "                    label=\"Red-Yellow-Blue\",\n",
    "                    method=\"restyle\"\n",
    "                ),\n",
    "            ]),\n",
    "            type = \"buttons\",\n",
    "            direction=\"right\",\n",
    "            pad={\"r\": 10, \"t\": 10},\n",
    "            showactive=True,\n",
    "            x=0,\n",
    "            xanchor=\"left\",\n",
    "            y=button_layer_1_height,\n",
    "            yanchor=\"top\"\n",
    "        ),\n",
    "        dict(\n",
    "            buttons=list([\n",
    "                dict(\n",
    "                    args=[\"reversescale\", False],\n",
    "                    label=\"False\",\n",
    "                    method=\"restyle\"\n",
    "                ),\n",
    "                dict(\n",
    "                    args=[\"reversescale\", True],\n",
    "                    label=\"True\",\n",
    "                    method=\"restyle\"\n",
    "                )\n",
    "            ]),\n",
    "            type = \"buttons\",\n",
    "            direction=\"right\",\n",
    "            pad={\"r\": 10, \"t\": 10},\n",
    "            showactive=True,\n",
    "            x=0.15,\n",
    "            xanchor=\"left\",\n",
    "            y=button_layer_2_height,\n",
    "            yanchor=\"top\"\n",
    "        ),\n",
    "    ]\n",
    ")\n",
    "\n",
    "###Annotate button options###\n",
    "fig.update_layout(\n",
    "    annotations=[\n",
    "        dict(text=\"Colorscale\", x=0, xref=\"paper\", y=1.35, yref=\"paper\",\n",
    "                             align=\"left\", showarrow=False),\n",
    "        dict(text=\"Reverse<br>Colorscale\", x=0, xref=\"paper\", y=1.17,\n",
    "                             yref=\"paper\", showarrow=False),\n",
    "    ])\n",
    "\n",
    "###Create & display everything###\n",
    "HBox([fig,\n",
    "      VBox([image_widget1, image_widget2, image_widget3])])\n",
    "\n",
    "\n"
   ]
  },
  {
   "cell_type": "code",
   "execution_count": 13,
   "metadata": {},
   "outputs": [
    {
     "data": {
      "text/plain": [
       "\"\\n-GET A BETTER DATASET (this is galaxy zoo, which is better than previous in images)\\n    -I have dataset from old activitity now but contains 10x more images...\\n-Images stored locally? Or can I call to the image for each point...seems slow?\\n-Add histogram vs scatter plot option?\\n-Alternatively, option to overlay a scatter plot\\n-Import your own data--can't find a way to do this in jupyter, have to use plotly dash\\n-Select whether you want hover or on click images\\n-Select colormap\\n    -Preliminarily done, need more/different options?\\n\\n\""
      ]
     },
     "execution_count": 13,
     "metadata": {},
     "output_type": "execute_result"
    }
   ],
   "source": [
    "####TO DOs#####\n",
    "'''\n",
    "-GET A BETTER DATASET (this is galaxy zoo, which is better than previous in images)\n",
    "    -I have dataset from old activitity now but contains 10x more images...\n",
    "-Images stored locally? Or can I call to the image for each point...seems slow?\n",
    "-Add histogram vs scatter plot option?\n",
    "-Alternatively, option to overlay a scatter plot\n",
    "-Import your own data--can't find a way to do this in jupyter, have to use plotly dash I think\n",
    "-Select whether you want hover or on click images\n",
    "-Select colormap\n",
    "    -Preliminarily done, need more/different options?\n",
    "-Select the magnitudes a user would like to calculate color\n",
    "\n",
    "'''"
   ]
  },
  {
   "cell_type": "code",
   "execution_count": null,
   "metadata": {},
   "outputs": [],
   "source": []
  },
  {
   "cell_type": "code",
   "execution_count": null,
   "metadata": {},
   "outputs": [],
   "source": []
  },
  {
   "cell_type": "code",
   "execution_count": null,
   "metadata": {},
   "outputs": [],
   "source": []
  },
  {
   "cell_type": "code",
   "execution_count": null,
   "metadata": {},
   "outputs": [],
   "source": []
  }
 ],
 "metadata": {
  "kernelspec": {
   "display_name": "Python 3",
   "language": "python",
   "name": "python3"
  },
  "language_info": {
   "codemirror_mode": {
    "name": "ipython",
    "version": 3
   },
   "file_extension": ".py",
   "mimetype": "text/x-python",
   "name": "python",
   "nbconvert_exporter": "python",
   "pygments_lexer": "ipython3",
   "version": "3.7.3"
  }
 },
 "nbformat": 4,
 "nbformat_minor": 2
}
